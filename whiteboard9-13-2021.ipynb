{
 "cells": [
  {
   "cell_type": "markdown",
   "id": "e03df18e",
   "metadata": {},
   "source": [
    "In this little assignment you are given a list of numbers, and have to return the highest and lowest number in a string separated by a single space.\n",
    "\n",
    "Example:\n",
    "high_and_low([1, 2, 3, 4, 5])  # return \"5 1\"\n",
    "high_and_low([1, 2, -3, 4, 5]) # return \"5 -3\"\n",
    "high_and_low([1, 9, 3, 4, -5) # return \"9 -5\"\n",
    "\n",
    "All numbers are valid Int, no need to validate them.\n",
    "There will always be at least one number in the input string.\n",
    "Output string must be two numbers separated by a single space, and highest number is first."
   ]
  },
  {
   "cell_type": "code",
   "execution_count": 9,
   "id": "a9155a11",
   "metadata": {},
   "outputs": [
    {
     "data": {
      "text/plain": [
       "(9, -5)"
      ]
     },
     "execution_count": 9,
     "metadata": {},
     "output_type": "execute_result"
    }
   ],
   "source": [
    "def high_and_low(list1):\n",
    "    return(max(list1)) , (min(list1))\n",
    "    \n",
    "list1 =[1, 9, 3, 4, -5] \n",
    "    \n",
    "high_and_low(list1)"
   ]
  },
  {
   "cell_type": "code",
   "execution_count": 10,
   "id": "665613cf",
   "metadata": {},
   "outputs": [
    {
     "name": "stdout",
     "output_type": "stream",
     "text": [
      "<class 'tuple'>\n"
     ]
    }
   ],
   "source": [
    "print(type(high_and_low(list1)))\n"
   ]
  },
  {
   "cell_type": "code",
   "execution_count": null,
   "id": "061eda49",
   "metadata": {},
   "outputs": [],
   "source": []
  }
 ],
 "metadata": {
  "kernelspec": {
   "display_name": "Python 3",
   "language": "python",
   "name": "python3"
  },
  "language_info": {
   "codemirror_mode": {
    "name": "ipython",
    "version": 3
   },
   "file_extension": ".py",
   "mimetype": "text/x-python",
   "name": "python",
   "nbconvert_exporter": "python",
   "pygments_lexer": "ipython3",
   "version": "3.8.8"
  }
 },
 "nbformat": 4,
 "nbformat_minor": 5
}
